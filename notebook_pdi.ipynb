{
 "cells": [
  {
   "attachments": {},
   "cell_type": "markdown",
   "metadata": {},
   "source": [
    "# 0 Imports and Visual Func"
   ]
  },
  {
   "cell_type": "code",
   "execution_count": 1,
   "metadata": {},
   "outputs": [],
   "source": [
    "import pandas as pd\n",
    "import numpy as np\n",
    "from pandas.api.types import is_string_dtype"
   ]
  },
  {
   "cell_type": "code",
   "execution_count": 2,
   "metadata": {},
   "outputs": [],
   "source": [
    "def jupyter_settings():\n",
    "\n",
    "    # change display settings\n",
    "    pd.options.display.max_columns = None\n",
    "    pd.options.display.max_rows = 50\n",
    "\t# supress scientific notation\n",
    "    pd.set_option('display.expand_frame_repr', False)\n",
    "    pd.set_option('display.float_format',  '{:,.2f}'.format)\n",
    "\n",
    "jupyter_settings();"
   ]
  },
  {
   "cell_type": "code",
   "execution_count": 3,
   "metadata": {},
   "outputs": [],
   "source": [
    "# variables month and year\n",
    "month = 3\n",
    "year = 2023\n",
    "day = 10\n",
    "day_demissao = 20"
   ]
  },
  {
   "attachments": {},
   "cell_type": "markdown",
   "metadata": {},
   "source": [
    "## 0.1 Load Files"
   ]
  },
  {
   "cell_type": "code",
   "execution_count": 4,
   "metadata": {},
   "outputs": [],
   "source": [
    "df = pd.read_excel(\"/mnt/c/Users/luizl/repos/spar/pdi_rv_project/files/hc_geral_adm.xlsx\", engine=\"openpyxl\", sheet_name=0)"
   ]
  },
  {
   "cell_type": "code",
   "execution_count": 5,
   "metadata": {},
   "outputs": [],
   "source": [
    "df_cargos = pd.read_excel(\"/mnt/c/Users/luizl/repos/spar/pdi_rv_project/files/cargos_de_para.xlsx\", engine=\"openpyxl\", sheet_name=0)"
   ]
  },
  {
   "cell_type": "code",
   "execution_count": 6,
   "metadata": {},
   "outputs": [],
   "source": [
    "df_tempo = pd.read_excel(\"/mnt/c/Users/luizl/repos/spar/pdi_rv_project/files/hc_geral_adm.xlsx\", engine=\"openpyxl\", sheet_name=1)"
   ]
  },
  {
   "attachments": {},
   "cell_type": "markdown",
   "metadata": {},
   "source": [
    "# 1 Open Files and Data Cleaning"
   ]
  },
  {
   "attachments": {},
   "cell_type": "markdown",
   "metadata": {},
   "source": [
    "## 1.1 - Limpando o HC"
   ]
  },
  {
   "cell_type": "code",
   "execution_count": 7,
   "metadata": {},
   "outputs": [],
   "source": [
    "# Create a column ultima data de demissão\n",
    "df['demissao'] = df.apply(lambda x : x['DATA DESLIGAMENTO CLT'] if x['STATUS'] == 'DESLIGADO' and pd.notnull(x['DATA DESLIGAMENTO CLT']) else \n",
    "                            x['DATA DESLIGAMENTO TEMP.'] if x['STATUS'] == 'DESLIGADO' and pd.notnull(x['DATA DESLIGAMENTO TEMP.']) else\n",
    "                            np.nan, axis=1)\n",
    "\n",
    "# remove unused columns\n",
    "df = df.iloc[:,[0, 1, 4, 9, 19, 20, 21, 22, 25, 29, 32, -1]]\n",
    "\n",
    "# remove - and . from CPF column\n",
    "df['CPF'] = df['CPF'].str.replace(\".\", '', regex= False)\n",
    "df['CPF'] = df['CPF'].str.replace(\"-\", '', regex= False)\n",
    "\n",
    "# remove extra regions\n",
    "df = df.loc[df['MICRO REGIONAL'].notnull()]\n",
    "df['MICRO REGIONAL'] = df['MICRO REGIONAL'].apply(\n",
    "    lambda x : \n",
    "    x[:x.find(',')] if x.find(',') > 0 else x\n",
    ")\n",
    "\n",
    "# remove extra cargo\n",
    "df['CARGO'] = df['CARGO'].apply(\n",
    "    lambda x : \n",
    "    x[:x.find('/')] if x.find('/') > 0 else x\n",
    ")\n",
    "\n",
    "# trim all columns\n",
    "for columns in df.columns:\n",
    "    if is_string_dtype(df[columns]):\n",
    "        df[columns] = df[columns].str.strip()\n",
    "    else:\n",
    "        df[columns] = df[columns]\n",
    "\n",
    "df = df.merge(\n",
    "    df_cargos, how='left', left_on='CARGO', right_on='CARGOS NOVOS', suffixes=(False, False)\n",
    ")\n",
    "\n",
    "# drop unused columns\n",
    "df = df.drop(['CARGOS NOVOS', 'CARGO'],axis=1)\n",
    "\n",
    "\n",
    "'''\n",
    "Cleaning Data Set Feristas\n",
    "'''\n",
    "# Create a column ultima data de demissão\n",
    "df_tempo['demissao'] = df_tempo.apply(lambda x : x['DATA DESLIGAMENTO CLT'] if x['STATUS'] == 'DESLIGADO' and pd.notnull(x['DATA DESLIGAMENTO CLT']) else \n",
    "                            x['DATA DESLIGAMENTO TEMP.'] if x['STATUS'] == 'DESLIGADO' and pd.notnull(x['DATA DESLIGAMENTO TEMP.']) else\n",
    "                            np.nan, axis=1)\n",
    "\n",
    "df_tempo = df_tempo.iloc[:, [0, 1, 5, 9, 19, 20, 21, 22, 25, 29, 32, -1]]\n",
    "\n",
    "# remove - and . from CPF column\n",
    "df_tempo['CPF'] = df_tempo['CPF'].str.replace(\".\", '', regex= True)\n",
    "df_tempo['CPF'] = df_tempo['CPF'].str.replace(\"-\", '', regex= True)\n",
    "\n",
    "# remove extra MICRO REGIONAL\n",
    "df_tempo = df_tempo.loc[df_tempo['MICRO REGIONAL'].notnull()]\n",
    "df_tempo['MICRO REGIONAL'] = df_tempo['MICRO REGIONAL'].apply(\n",
    "    lambda x : \n",
    "    x[:x.find(',')] if x.find(',') > 0 else x\n",
    ")\n",
    "\n",
    "# remove erros on CARGOS\n",
    "df_tempo['CARGO'] = df_tempo['CARGO'].apply(\n",
    "    lambda x : \n",
    "    x[:x.find('/')] if x.find('/') > 0 else x\n",
    ")\n",
    "\n",
    "# trim all columns\n",
    "for columns in df_tempo.columns:\n",
    "    if is_string_dtype(df_tempo[columns]):\n",
    "        df_tempo[columns] = df_tempo[columns].str.strip()\n",
    "    else:\n",
    "        df_tempo[columns] = df_tempo[columns]\n",
    "\n",
    "df_tempo = df_tempo.merge(\n",
    "    df_cargos, how='left', left_on='CARGO', right_on='CARGOS NOVOS', suffixes=(False, False)\n",
    ")\n",
    "\n",
    "# drop unused columns\n",
    "df_tempo = df_tempo.drop(['CARGOS NOVOS', 'CARGO'],axis=1)\n",
    "\n",
    "# concat df_hc\n",
    "df_hc = pd.concat([df, df_tempo])\n"
   ]
  },
  {
   "cell_type": "code",
   "execution_count": 8,
   "metadata": {},
   "outputs": [
    {
     "name": "stdout",
     "output_type": "stream",
     "text": [
      "Total Linhas :  1372\n",
      "Total Colunas: 12\n"
     ]
    }
   ],
   "source": [
    "df1 = df_hc.copy()\n",
    "print(f'Total Linhas :  {df1.shape[0]}')\n",
    "print(f'Total Colunas: {df1.shape[1]}')"
   ]
  },
  {
   "cell_type": "code",
   "execution_count": 9,
   "metadata": {},
   "outputs": [
    {
     "name": "stdout",
     "output_type": "stream",
     "text": [
      "Total Linhas :  1359\n",
      "Total Colunas: 12\n"
     ]
    }
   ],
   "source": [
    "# remove os novos contratados\n",
    "df1 = df1.loc[df1['ADMISSÃO/ARRASTAR FÓRMULA'] <= pd.to_datetime(str(year)+'-'+str(month)+'-'+str(day))]\n",
    "print(f'Total Linhas :  {df1.shape[0]}')\n",
    "print(f'Total Colunas: {df1.shape[1]}')"
   ]
  },
  {
   "cell_type": "code",
   "execution_count": 16,
   "metadata": {},
   "outputs": [
    {
     "name": "stdout",
     "output_type": "stream",
     "text": [
      "Total Linhas :  642\n",
      "Total Colunas: 12\n"
     ]
    }
   ],
   "source": [
    "df1 = df1.loc[(df1['demissao'] >= pd.to_datetime(str(year)+'-'+str(month)+'-'+str(day_demissao))) | (df1['demissao'].isnull())]\n",
    "print(f'Total Linhas :  {df1.shape[0]}')\n",
    "print(f'Total Colunas: {df1.shape[1]}')"
   ]
  },
  {
   "cell_type": "code",
   "execution_count": 18,
   "metadata": {},
   "outputs": [],
   "source": [
    "df1.to_csv(\"/mnt/c/Users/luizl/repos/spar/pdi_rv_project/files/teste.csv\", sep=';', encoding='utf-8-sig', index=False)"
   ]
  }
 ],
 "metadata": {
  "kernelspec": {
   "display_name": "dummy",
   "language": "python",
   "name": "python3"
  },
  "language_info": {
   "codemirror_mode": {
    "name": "ipython",
    "version": 3
   },
   "file_extension": ".py",
   "mimetype": "text/x-python",
   "name": "python",
   "nbconvert_exporter": "python",
   "pygments_lexer": "ipython3",
   "version": "3.8.0"
  },
  "orig_nbformat": 4
 },
 "nbformat": 4,
 "nbformat_minor": 2
}
